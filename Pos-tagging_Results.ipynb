{
 "cells": [
  {
   "attachments": {},
   "cell_type": "markdown",
   "id": "e2f8adc3",
   "metadata": {},
   "source": [
    "Project : CamemBERT  \n",
    "Unit : Advanced Machine Learning   \n",
    "MSc. Intelligent systems engineering  \n",
    "SORBONNE UNIVERSITÉ  \n",
    "\n",
    "--- Students ---  \n",
    "@SSivanesan - Shivamshan SIVANESAN  \n",
    "@Emirtas7 - Emir TAS  \n",
    "@KishanthanKingston - Kishanthan KINGSTON \n",
    "\n",
    "\n",
    "# Pos-tagging evaluation with RoBERTa pretrained version retrained with our French database"
   ]
  },
  {
   "cell_type": "code",
   "execution_count": 1,
   "id": "bfbb9dfa",
   "metadata": {},
   "outputs": [],
   "source": [
    "import torch\n",
    "from torch.utils.data import Dataset, DataLoader\n",
    "from transformers import AutoTokenizer, RobertaForTokenClassification, AdamW, RobertaConfig\n",
    "from sklearn.metrics import accuracy_score\n",
    "from sklearn.model_selection import train_test_split\n",
    "\n",
    "from PosTagging import PosTaggingDataset, CollateFn, ConlluReader"
   ]
  },
  {
   "cell_type": "code",
   "execution_count": 2,
   "id": "a551664c-b057-4871-98e9-d13b640135d0",
   "metadata": {},
   "outputs": [
    {
     "name": "stderr",
     "output_type": "stream",
     "text": [
      "Some weights of RobertaForTokenClassification were not initialized from the model checkpoint at ./roberta-retrained and are newly initialized: ['classifier.weight', 'classifier.bias']\n",
      "You should probably TRAIN this model on a down-stream task to be able to use it for predictions and inference.\n"
     ]
    },
    {
     "name": "stdout",
     "output_type": "stream",
     "text": [
      "Epoch 1/1, Batch 1/26, Loss: 2.9393\n",
      "Epoch 1/1, Batch 2/26, Loss: 0.3846\n",
      "Epoch 1/1, Batch 3/26, Loss: 0.8149\n",
      "Epoch 1/1, Batch 4/26, Loss: 0.0026\n",
      "Epoch 1/1, Batch 5/26, Loss: 0.2310\n",
      "Epoch 1/1, Batch 6/26, Loss: 1.8189\n",
      "Epoch 1/1, Batch 7/26, Loss: 0.0006\n",
      "Epoch 1/1, Batch 8/26, Loss: 0.0006\n",
      "Epoch 1/1, Batch 9/26, Loss: 0.0006\n",
      "Epoch 1/1, Batch 10/26, Loss: 0.0006\n",
      "Epoch 1/1, Batch 11/26, Loss: 0.0010\n",
      "Epoch 1/1, Batch 12/26, Loss: 0.0026\n",
      "Epoch 1/1, Batch 13/26, Loss: 0.0005\n",
      "Epoch 1/1, Batch 14/26, Loss: 0.0004\n",
      "Epoch 1/1, Batch 15/26, Loss: 0.0004\n",
      "Epoch 1/1, Batch 16/26, Loss: 0.0004\n",
      "Epoch 1/1, Batch 17/26, Loss: 0.0003\n",
      "Epoch 1/1, Batch 18/26, Loss: 0.0003\n",
      "Epoch 1/1, Batch 19/26, Loss: 0.0003\n",
      "Epoch 1/1, Batch 20/26, Loss: 0.0003\n",
      "Epoch 1/1, Batch 21/26, Loss: 0.0003\n",
      "Epoch 1/1, Batch 22/26, Loss: 0.0003\n",
      "Epoch 1/1, Batch 23/26, Loss: 0.0003\n",
      "Epoch 1/1, Batch 24/26, Loss: 0.0003\n",
      "Epoch 1/1, Batch 25/26, Loss: 0.0003\n",
      "Epoch 1/1, Batch 26/26, Loss: 0.0002\n",
      "Epoch 1/1, Average Loss: 0.2385\n",
      "Final Accuracy on Validation Set: 1.0\n"
     ]
    }
   ],
   "source": [
    "label_mapping = {\"ADJ\": 0, \"ADP\": 1, \"ADV\": 2, \"AUX\": 3, \"CCONJ\": 4, \"DET\": 5,\n",
    "                 \"INTJ\": 6, \"NOUN\": 7, \"NUM\": 8, \"PRON\": 9, \"PROPN\": 10, \"PUNCT\": 11,\n",
    "                 \"SCONJ\": 12, \"SYM\": 13, \"VERB\": 14, \"X\": 15, '<UNK>': 16}\n",
    "\n",
    "# Load the BERT tokenizer\n",
    "tokenizer = AutoTokenizer.from_pretrained('roberta-base')\n",
    "\n",
    "# Load and split the data\n",
    "file_path_conllu = 'Evaluation_dataset/UD_French-GSD/fr_gsd-ud-train.conllu'\n",
    "\n",
    "read_conllu = ConlluReader(file_path_conllu)\n",
    "\n",
    "all_data = read_conllu.read_file()\n",
    "\n",
    "train_data, val_data = train_test_split(all_data, test_size=0.1, random_state=42)\n",
    "\n",
    "# Create datasets and dataloaders\n",
    "batch_size = 512\n",
    "train_dataset = PosTaggingDataset(train_data, tokenizer, label_mapping)\n",
    "val_dataset = PosTaggingDataset(val_data, tokenizer, label_mapping)\n",
    "\n",
    "collate_fn = CollateFn(tokenizer, label_mapping)\n",
    "train_dataloader = DataLoader(train_dataset, batch_size=batch_size, shuffle=True, collate_fn=collate_fn)\n",
    "val_dataloader = DataLoader(val_dataset, batch_size=batch_size, shuffle=False, collate_fn=collate_fn)\n",
    "\n",
    "config = RobertaConfig.from_pretrained(\"./roberta-retrained\", num_labels=len(label_mapping))\n",
    "config.hidden_dropout_prob = 0.5\n",
    "model = RobertaForTokenClassification.from_pretrained(\"./roberta-retrained\", config=config)\n",
    "\n",
    "# Set up the optimizer\n",
    "optimizer = torch.optim.Adam(model.parameters(), lr=0.002, weight_decay=0.001)\n",
    "# Fine-tune the model\n",
    "model.train()\n",
    "losses, accuracies = [], []\n",
    "# Training loop\n",
    "num_epochs = 1\n",
    "for epoch in range(num_epochs):\n",
    "    total_loss = 0.0  # Initializer la perte totale pour l'époque\n",
    "    num_batches = len(train_dataloader)\n",
    "\n",
    "    for batch_num, batch in enumerate(train_dataloader, 1):\n",
    "        inputs = {\n",
    "            'input_ids': batch['input_ids'],\n",
    "            'attention_mask': batch['attention_mask'],\n",
    "            'labels': batch['labels']\n",
    "        }\n",
    "        \n",
    "        optimizer.zero_grad()\n",
    "        outputs = model(**inputs)\n",
    "        loss = outputs.loss\n",
    "        losses.append(loss)\n",
    "        loss.backward()\n",
    "        optimizer.step()\n",
    "\n",
    "        total_loss += loss.item()  # Ajouter la perte de ce batch à la perte totale\n",
    "\n",
    "        # Afficher la perte de chaque batch\n",
    "        print(f'Epoch {epoch + 1}/{num_epochs}, Batch {batch_num}/{num_batches}, Loss: {loss.item():.4f}')\n",
    "\n",
    "    average_loss = total_loss / num_batches\n",
    "    print(f'Epoch {epoch + 1}/{num_epochs}, Average Loss: {average_loss:.4f}')\n",
    "\n",
    "model.eval()\n",
    "total_accuracy = 0\n",
    "\n",
    "with torch.no_grad():\n",
    "    for batch in val_dataloader:\n",
    "        inputs = {\n",
    "            'input_ids': batch['input_ids'],\n",
    "            'attention_mask': batch['attention_mask'],\n",
    "            'labels': batch['labels']\n",
    "        }\n",
    "        outputs = model(**inputs)\n",
    "        predictions = torch.argmax(outputs.logits, dim=-1)\n",
    "        \n",
    "        # Flatten the labels\n",
    "        labels_flat = batch['labels'].flatten()\n",
    "        predictions_flat = predictions.flatten()\n",
    "        \n",
    "        accuracy = accuracy_score(labels_flat, predictions_flat)\n",
    "        accuracies.append(accuracy)\n",
    "        total_accuracy += accuracy\n",
    "\n",
    "final_accuracy = total_accuracy / len(val_dataloader)\n",
    "print(f\"Final Accuracy on Validation Set: {final_accuracy}\")"
   ]
  },
  {
   "cell_type": "code",
   "execution_count": 13,
   "id": "96f3de88-e5c2-4e89-a113-4d50b3b549da",
   "metadata": {},
   "outputs": [
    {
     "name": "stdout",
     "output_type": "stream",
     "text": [
      "26 3\n"
     ]
    },
    {
     "data": {
      "image/png": "[encoded data removed]",
      "text/plain": [
       "<Figure size 800x500 with 1 Axes>"
      ]
     },
     "metadata": {},
     "output_type": "display_data"
    }
   ],
   "source": [
    "import matplotlib.pyplot as plt\n",
    "\n",
    "losses_values = [loss.item() for loss in losses]\n",
    "print(len(losses_values), len(accuracies))\n",
    "\n",
    "fig, ax1 = plt.subplots(figsize=(8, 5))\n",
    "\n",
    "ax1.plot(losses_values, 'r', label='Loss')\n",
    "ax1.set_title('Training Loss')\n",
    "ax1.set_xlabel('Batch')\n",
    "ax1.set_ylabel('Loss')\n",
    "ax1.legend()\n",
    "ax1.grid()\n",
    "\n",
    "plt.tight_layout()\n",
    "plt.show()"
   ]
  },
  {
   "cell_type": "code",
   "execution_count": null,
   "id": "e5647a54-b13a-44cc-94de-424d0c69f37f",
   "metadata": {},
   "outputs": [],
   "source": []
  }
 ],
 "metadata": {
  "kernelspec": {
   "display_name": "Python 3 (ipykernel)",
   "language": "python",
   "name": "python3"
  },
  "language_info": {
   "codemirror_mode": {
    "name": "ipython",
    "version": 3
   },
   "file_extension": ".py",
   "mimetype": "text/x-python",
   "name": "python",
   "nbconvert_exporter": "python",
   "pygments_lexer": "ipython3",
   "version": "3.10.6"
  }
 },
 "nbformat": 4,
 "nbformat_minor": 5
}
